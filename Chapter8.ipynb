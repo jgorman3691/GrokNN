{
 "metadata": {
  "language_info": {
   "codemirror_mode": {
    "name": "ipython",
    "version": 3
   },
   "file_extension": ".py",
   "mimetype": "text/x-python",
   "name": "python",
   "nbconvert_exporter": "python",
   "pygments_lexer": "ipython3",
   "version": "3.7.8-final"
  },
  "orig_nbformat": 2,
  "kernelspec": {
   "name": "tf",
   "display_name": "tf"
  }
 },
 "nbformat": 4,
 "nbformat_minor": 2,
 "cells": [
  {
   "cell_type": "code",
   "execution_count": 5,
   "metadata": {
    "tags": []
   },
   "outputs": [
    {
     "output_type": "stream",
     "name": "stdout",
     "text": "\nI:0 Test-Acc:0.3679 Train-Acc:0.16\nI:10 Test-Acc:0.2503 Train-Acc:0.285\nI:20 Test-Acc:0.1924 Train-Acc:0.22\nI:30 Test-Acc:0.1296 Train-Acc:0.166\nI:40 Test-Acc:0.1028 Train-Acc:0.134\nI:50 Test-Acc:0.1028 Train-Acc:0.138\nI:60 Test-Acc:0.1028 Train-Acc:0.135\nI:70 Test-Acc:0.103 Train-Acc:0.141\nI:80 Test-Acc:0.1039 Train-Acc:0.147\nI:90 Test-Acc:0.1055 Train-Acc:0.159\nI:100 Test-Acc:0.1245 Train-Acc:0.173\nI:110 Test-Acc:0.1753 Train-Acc:0.183\nI:120 Test-Acc:0.1919 Train-Acc:0.177\nI:130 Test-Acc:0.2069 Train-Acc:0.196\nI:140 Test-Acc:0.2104 Train-Acc:0.188\nI:150 Test-Acc:0.2122 Train-Acc:0.195\nI:160 Test-Acc:0.2121 Train-Acc:0.199\nI:170 Test-Acc:0.212 Train-Acc:0.2\nI:180 Test-Acc:0.2122 Train-Acc:0.193\nI:190 Test-Acc:0.2117 Train-Acc:0.2\nI:200 Test-Acc:0.212 Train-Acc:0.203\nI:210 Test-Acc:0.2116 Train-Acc:0.193\nI:220 Test-Acc:0.2113 Train-Acc:0.2\nI:230 Test-Acc:0.2098 Train-Acc:0.21\nI:240 Test-Acc:0.2108 Train-Acc:0.2\nI:250 Test-Acc:0.2105 Train-Acc:0.195\nI:260 Test-Acc:0.2102 Train-Acc:0.205\nI:270 Test-Acc:0.2334 Train-Acc:0.203\nI:280 Test-Acc:0.0892 Train-Acc:0.096\nI:290 Test-Acc:0.0892 Train-Acc:0.092"
    }
   ],
   "source": [
    "import numpy as np, sys\n",
    "np.random.seed(1)\n",
    "\n",
    "from keras.datasets import mnist\n",
    "\n",
    "(x_train, y_train), (x_test, y_test) = mnist.load_data()\n",
    "\n",
    "images, labels = (x_train[0:1000].reshape(1000,28*28)/255, y_train[0:1000])\n",
    "\n",
    "one_hot_labels = np.zeros((len(labels),10))\n",
    "for i,l in enumerate(labels):\n",
    "    one_hot_labels[i][l] = 1\n",
    "labels = one_hot_labels\n",
    "\n",
    "test_images = x_test.reshape(len(x_test),28*28) / 255\n",
    "test_labels = np.zeros((len(y_test),10))\n",
    "for i,l in enumerate(y_test):\n",
    "    test_labels[i][l] = 1\n",
    "\n",
    "def tanh(x):\n",
    "    return np.tanh(x)\n",
    "def tanh2deriv(output):\n",
    "    return 1 - (output ** 2)\n",
    "def softmax(x):\n",
    "    e_x = np.exp(x - np.max(x))\n",
    "    return e_x / e_x.sum()\n",
    "\n",
    "alpha, iterations, hidden_size = (2, 300, 100)\n",
    "pixels_per_image, num_labels = (784, 10)\n",
    "batch_size = 100\n",
    "\n",
    "weights_0_1 = 0.02*np.random.random((pixels_per_image, hidden_size)) - 0.01\n",
    "weights_1_2 = 0.2*np.random.random((hidden_size, num_labels)) - 0.1\n",
    "\n",
    "for j in range(iterations):\n",
    "    correct_cnt = 0\n",
    "    for i in range(int(len(images) / batch_size)):\n",
    "        batch_start, batch_end = ((i * batch_size),((i+1)*batch_size))\n",
    "        layer_0 = images[batch_start:batch_end]\n",
    "        layer_1 = tanh(np.dot(layer_0,weights_0_1))\n",
    "        dropout_mask = np.random.randint(2,size=layer_1.shape)\n",
    "        layer_1 *= dropout_mask * 2\n",
    "        layer_2 = softmax(np.dot(layer_1,weights_1_2))\n",
    "\n",
    "        for k in range(batch_size):\n",
    "            correct_cnt += int(np.argmax(layer_2[k:k+1]) == np.argmax(labels[batch_start+k:batch_start+k+1]))\n",
    "\n",
    "        layer_2_delta = (labels[batch_start:batch_end] - layer_2) / (batch_size * layer_2.shape[0])\n",
    "        layer_1_delta = layer_2_delta.dot(weights_1_2.T) * tanh2deriv(layer_1)\n",
    "        layer_1_delta *= dropout_mask\n",
    "\n",
    "        weights_1_2 += alpha * layer_1.T.dot(layer_2_delta)\n",
    "        weights_0_1 += alpha * layer_0.T.dot(layer_1_delta)\n",
    "    test_correct_cnt = 0\n",
    "\n",
    "    for i in range(len(test_images)):\n",
    "\n",
    "        layer_0 = test_images[i:i+1]\n",
    "        layer_1 = tanh(np.dot(layer_0,weights_0_1))\n",
    "        layer_2 = np.dot(layer_1,weights_1_2)\n",
    "        test_correct_cnt += int(np.argmax(layer_2) == np.argmax(test_labels[i:i+1]))\n",
    "\n",
    "    if(j % 10 == 0):\n",
    "        sys.stdout.write(\"\\n\" + \"I:\" + str(j) + \" Test-Acc:\" + str(test_correct_cnt/float(len(test_images))) + \" Train-Acc:\" + str(correct_cnt/float(len(images))))"
   ]
  },
  {
   "cell_type": "code",
   "execution_count": null,
   "metadata": {},
   "outputs": [],
   "source": [
    " T"
   ]
  }
 ]
}