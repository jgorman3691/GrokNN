{
 "metadata": {
  "language_info": {
   "codemirror_mode": {
    "name": "ipython",
    "version": 3
   },
   "file_extension": ".py",
   "mimetype": "text/x-python",
   "name": "python",
   "nbconvert_exporter": "python",
   "pygments_lexer": "ipython3",
   "version": 3
  },
  "orig_nbformat": 2
 },
 "nbformat": 4,
 "nbformat_minor": 2,
 "cells": [
  {
   "source": [
    "$$\\left[(x_{train}, y_{train}), (x_{test},y_{test})\\right]  =  \\begin{bmatrix} 1, \\dotsc ,n \\end{bmatrix}$$\n",
    "\\mathbf{ii,ls} = \\begin{bmatrix} x_{1000} \\end{bmatrix} \\arrowOver \\begin{bmatrix} \\frac{X_{1000x724}, 255} \\end{bmatrix} , \\vv{y_train}_{1000}\n"
   ],
   "cell_type": "code",
   "metadata": {},
   "execution_count": null,
   "outputs": []
  },
  {
   "cell_type": "code",
   "execution_count": null,
   "metadata": {},
   "outputs": [],
   "source": []
  }
 ]
}